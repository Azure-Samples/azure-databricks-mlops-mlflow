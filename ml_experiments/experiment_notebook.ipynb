{
 "cells": [
  {
   "cell_type": "markdown",
   "id": "6e928c1e-faf4-4bed-8a3b-c642aa110719",
   "metadata": {},
   "source": [
    "# ML Experiment"
   ]
  },
  {
   "cell_type": "markdown",
   "id": "c613bba4-08b4-4c68-9ff5-507301801249",
   "metadata": {},
   "source": [
    "## Read Config"
   ]
  },
  {
   "cell_type": "code",
   "execution_count": 1,
   "id": "07e1e52d-2242-4c1e-8445-b54187fba9dd",
   "metadata": {},
   "outputs": [
    {
     "data": {
      "text/plain": [
       "{'training': {'ridge_args': {'alpha': 0.5}}}"
      ]
     },
     "execution_count": 1,
     "metadata": {},
     "output_type": "execute_result"
    }
   ],
   "source": [
    "config = {\n",
    "    \"training\": {\"ridge_args\": {\"alpha\": 0.5}}\n",
    "}\n",
    "config"
   ]
  },
  {
   "cell_type": "markdown",
   "id": "ea0cc0db-2546-4974-be6e-a0e9883d4ea1",
   "metadata": {},
   "source": [
    "## Data Exploration"
   ]
  },
  {
   "cell_type": "code",
   "execution_count": 2,
   "id": "08be8779-a873-44f9-a54f-6539cc2dd743",
   "metadata": {},
   "outputs": [
    {
     "data": {
      "text/plain": [
       "<bound method NDFrame.describe of           AGE     SEX       BMI        BP        S1        S2        S3  \\\n",
       "0    0.038076    Male  0.061696  0.021872 -0.044223 -0.034821 -0.043401   \n",
       "1   -0.001882    Male -0.051474 -0.026328 -0.008449 -0.019163  0.074412   \n",
       "2    0.085299    Male  0.044451 -0.005671 -0.045599 -0.034194 -0.032356   \n",
       "3   -0.089063    Male -0.011595 -0.036656  0.012191  0.024991 -0.036038   \n",
       "4    0.005383  Female -0.036385  0.021872  0.003935  0.015596  0.008142   \n",
       "..        ...     ...       ...       ...       ...       ...       ...   \n",
       "437  0.041708  Female  0.019662       NaN       NaN       NaN -0.028674   \n",
       "438 -0.005515    Male -0.015906 -0.067642  0.049341  0.079165 -0.028674   \n",
       "439  0.041708    Male -0.015906  0.017282 -0.037344 -0.013840 -0.024993   \n",
       "440 -0.045472  Female  0.039062  0.001215  0.016318  0.015283 -0.028674   \n",
       "441 -0.045472    Male -0.073030 -0.081414  0.083740  0.027809  0.173816   \n",
       "\n",
       "           S4        S5        S6    Y  \n",
       "0   -0.002592  0.019908 -0.017646  151  \n",
       "1   -0.039493 -0.068330 -0.092204   75  \n",
       "2   -0.002592  0.002864 -0.025930  141  \n",
       "3    0.034309  0.022692 -0.009362  206  \n",
       "4   -0.002592 -0.031991 -0.046641  135  \n",
       "..        ...       ...       ...  ...  \n",
       "437 -0.002592  0.031193  0.007207  178  \n",
       "438  0.034309 -0.018118  0.044485  104  \n",
       "439 -0.011080 -0.046879  0.015491  132  \n",
       "440  0.026560  0.044528 -0.025930  220  \n",
       "441 -0.039493 -0.004220  0.003064   57  \n",
       "\n",
       "[442 rows x 11 columns]>"
      ]
     },
     "execution_count": 2,
     "metadata": {},
     "output_type": "execute_result"
    }
   ],
   "source": [
    "import pandas as pd\n",
    "\n",
    "df = pd.read_csv(\"../ml_data/data_raw.csv\")\n",
    "df.describe"
   ]
  },
  {
   "cell_type": "code",
   "execution_count": 3,
   "id": "116bb16b-a668-4f67-b3a0-23c56ad1386c",
   "metadata": {},
   "outputs": [
    {
     "data": {
      "text/html": [
       "<div>\n",
       "<style scoped>\n",
       "    .dataframe tbody tr th:only-of-type {\n",
       "        vertical-align: middle;\n",
       "    }\n",
       "\n",
       "    .dataframe tbody tr th {\n",
       "        vertical-align: top;\n",
       "    }\n",
       "\n",
       "    .dataframe thead th {\n",
       "        text-align: right;\n",
       "    }\n",
       "</style>\n",
       "<table border=\"1\" class=\"dataframe\">\n",
       "  <thead>\n",
       "    <tr style=\"text-align: right;\">\n",
       "      <th></th>\n",
       "      <th>AGE</th>\n",
       "      <th>SEX</th>\n",
       "      <th>BMI</th>\n",
       "      <th>BP</th>\n",
       "      <th>S1</th>\n",
       "      <th>S2</th>\n",
       "      <th>S3</th>\n",
       "      <th>S4</th>\n",
       "      <th>S5</th>\n",
       "      <th>S6</th>\n",
       "      <th>Y</th>\n",
       "    </tr>\n",
       "  </thead>\n",
       "  <tbody>\n",
       "    <tr>\n",
       "      <th>0</th>\n",
       "      <td>0.038076</td>\n",
       "      <td>Male</td>\n",
       "      <td>0.061696</td>\n",
       "      <td>0.021872</td>\n",
       "      <td>-0.044223</td>\n",
       "      <td>-0.034821</td>\n",
       "      <td>-0.043401</td>\n",
       "      <td>-0.002592</td>\n",
       "      <td>0.019908</td>\n",
       "      <td>-0.017646</td>\n",
       "      <td>151</td>\n",
       "    </tr>\n",
       "    <tr>\n",
       "      <th>1</th>\n",
       "      <td>-0.001882</td>\n",
       "      <td>Male</td>\n",
       "      <td>-0.051474</td>\n",
       "      <td>-0.026328</td>\n",
       "      <td>-0.008449</td>\n",
       "      <td>-0.019163</td>\n",
       "      <td>0.074412</td>\n",
       "      <td>-0.039493</td>\n",
       "      <td>-0.068330</td>\n",
       "      <td>-0.092204</td>\n",
       "      <td>75</td>\n",
       "    </tr>\n",
       "    <tr>\n",
       "      <th>2</th>\n",
       "      <td>0.085299</td>\n",
       "      <td>Male</td>\n",
       "      <td>0.044451</td>\n",
       "      <td>-0.005671</td>\n",
       "      <td>-0.045599</td>\n",
       "      <td>-0.034194</td>\n",
       "      <td>-0.032356</td>\n",
       "      <td>-0.002592</td>\n",
       "      <td>0.002864</td>\n",
       "      <td>-0.025930</td>\n",
       "      <td>141</td>\n",
       "    </tr>\n",
       "    <tr>\n",
       "      <th>3</th>\n",
       "      <td>-0.089063</td>\n",
       "      <td>Male</td>\n",
       "      <td>-0.011595</td>\n",
       "      <td>-0.036656</td>\n",
       "      <td>0.012191</td>\n",
       "      <td>0.024991</td>\n",
       "      <td>-0.036038</td>\n",
       "      <td>0.034309</td>\n",
       "      <td>0.022692</td>\n",
       "      <td>-0.009362</td>\n",
       "      <td>206</td>\n",
       "    </tr>\n",
       "    <tr>\n",
       "      <th>4</th>\n",
       "      <td>0.005383</td>\n",
       "      <td>Female</td>\n",
       "      <td>-0.036385</td>\n",
       "      <td>0.021872</td>\n",
       "      <td>0.003935</td>\n",
       "      <td>0.015596</td>\n",
       "      <td>0.008142</td>\n",
       "      <td>-0.002592</td>\n",
       "      <td>-0.031991</td>\n",
       "      <td>-0.046641</td>\n",
       "      <td>135</td>\n",
       "    </tr>\n",
       "  </tbody>\n",
       "</table>\n",
       "</div>"
      ],
      "text/plain": [
       "        AGE     SEX       BMI        BP        S1        S2        S3  \\\n",
       "0  0.038076    Male  0.061696  0.021872 -0.044223 -0.034821 -0.043401   \n",
       "1 -0.001882    Male -0.051474 -0.026328 -0.008449 -0.019163  0.074412   \n",
       "2  0.085299    Male  0.044451 -0.005671 -0.045599 -0.034194 -0.032356   \n",
       "3 -0.089063    Male -0.011595 -0.036656  0.012191  0.024991 -0.036038   \n",
       "4  0.005383  Female -0.036385  0.021872  0.003935  0.015596  0.008142   \n",
       "\n",
       "         S4        S5        S6    Y  \n",
       "0 -0.002592  0.019908 -0.017646  151  \n",
       "1 -0.039493 -0.068330 -0.092204   75  \n",
       "2 -0.002592  0.002864 -0.025930  141  \n",
       "3  0.034309  0.022692 -0.009362  206  \n",
       "4 -0.002592 -0.031991 -0.046641  135  "
      ]
     },
     "execution_count": 3,
     "metadata": {},
     "output_type": "execute_result"
    }
   ],
   "source": [
    "df.head()"
   ]
  },
  {
   "cell_type": "markdown",
   "id": "7e063a10-0970-4af8-9fad-f068863d56f9",
   "metadata": {},
   "source": [
    "## Feature Engineering"
   ]
  },
  {
   "cell_type": "markdown",
   "id": "7def494e-9e28-4f65-9d5d-edc46f82d162",
   "metadata": {},
   "source": [
    "### Calculate missing_values"
   ]
  },
  {
   "cell_type": "code",
   "execution_count": 4,
   "id": "9cf37017-388d-4a4e-918c-8096c1eb5258",
   "metadata": {},
   "outputs": [
    {
     "name": "stdout",
     "output_type": "stream",
     "text": [
      "Missing values 1.9950637597696421%\n"
     ]
    },
    {
     "name": "stderr",
     "output_type": "stream",
     "text": [
      "/var/folders/2z/j6dm2zqs6zgb6fjr20xj_k3c0000gp/T/ipykernel_69315/4186708915.py:10: FutureWarning: Dropping of nuisance columns in DataFrame reductions (with 'numeric_only=None') is deprecated; in a future version this will raise TypeError.  Select only valid columns before calling the reduction.\n",
      "  df = df.fillna(df.mean())\n"
     ]
    }
   ],
   "source": [
    "import numpy as np\n",
    "\n",
    "total_cells = np.product(df.shape)\n",
    "missing_values_count = df.isnull().sum()\n",
    "total_missing = missing_values_count.sum()\n",
    "percentage_missing = (total_missing / total_cells) * 100\n",
    "\n",
    "print(f\"Missing values {percentage_missing}%\")\n",
    "\n",
    "df = df.fillna(df.mean())"
   ]
  },
  {
   "cell_type": "markdown",
   "id": "0042a39b-5fd6-464d-bc22-8dbb7fec2b11",
   "metadata": {},
   "source": [
    "### Remove categorical column"
   ]
  },
  {
   "cell_type": "code",
   "execution_count": 5,
   "id": "cf9c0f90-04de-418c-a495-c76abbb1745d",
   "metadata": {},
   "outputs": [
    {
     "data": {
      "text/plain": [
       "<bound method NDFrame.describe of           AGE       BMI        BP        S1        S2        S3        S4  \\\n",
       "0    0.038076  0.061696  0.021872 -0.044223 -0.034821 -0.043401 -0.002592   \n",
       "1   -0.001882 -0.051474 -0.026328 -0.008449 -0.019163  0.074412 -0.039493   \n",
       "2    0.085299  0.044451 -0.005671 -0.045599 -0.034194 -0.032356 -0.002592   \n",
       "3   -0.089063 -0.011595 -0.036656  0.012191  0.024991 -0.036038  0.034309   \n",
       "4    0.005383 -0.036385  0.021872  0.003935  0.015596  0.008142 -0.002592   \n",
       "..        ...       ...       ...       ...       ...       ...       ...   \n",
       "437  0.041708  0.019662 -0.000022 -0.000145 -0.000774 -0.028674 -0.002592   \n",
       "438 -0.005515 -0.015906 -0.067642  0.049341  0.079165 -0.028674  0.034309   \n",
       "439  0.041708 -0.015906  0.017282 -0.037344 -0.013840 -0.024993 -0.011080   \n",
       "440 -0.045472  0.039062  0.001215  0.016318  0.015283 -0.028674  0.026560   \n",
       "441 -0.045472 -0.073030 -0.081414  0.083740  0.027809  0.173816 -0.039493   \n",
       "\n",
       "           S5        S6    Y  MALE  FEMALE  \n",
       "0    0.019908 -0.017646  151   0.0     1.0  \n",
       "1   -0.068330 -0.092204   75   0.0     1.0  \n",
       "2    0.002864 -0.025930  141   0.0     1.0  \n",
       "3    0.022692 -0.009362  206   0.0     1.0  \n",
       "4   -0.031991 -0.046641  135   1.0     0.0  \n",
       "..        ...       ...  ...   ...     ...  \n",
       "437  0.031193  0.007207  178   1.0     0.0  \n",
       "438 -0.018118  0.044485  104   0.0     1.0  \n",
       "439 -0.046879  0.015491  132   0.0     1.0  \n",
       "440  0.044528 -0.025930  220   1.0     0.0  \n",
       "441 -0.004220  0.003064   57   0.0     1.0  \n",
       "\n",
       "[442 rows x 12 columns]>"
      ]
     },
     "execution_count": 5,
     "metadata": {},
     "output_type": "execute_result"
    }
   ],
   "source": [
    "from sklearn.preprocessing import OneHotEncoder\n",
    "\n",
    "ohe = OneHotEncoder(sparse=False)\n",
    "transform_df = ohe.fit_transform(df[\"SEX\"].values.reshape(-1, 1))\n",
    "sex_cat = [\"MALE\", \"FEMALE\"]\n",
    "df_one_hot = pd.DataFrame(\n",
    "    transform_df, columns=[sex_cat[i] for i in range(len(sex_cat))]\n",
    ")\n",
    "df = pd.concat([df, df_one_hot], axis=1).drop([\"SEX\"], axis=1)\n",
    "\n",
    "df.describe"
   ]
  },
  {
   "cell_type": "markdown",
   "id": "565a1e26-e27b-48a8-b74c-7c0740a13fdb",
   "metadata": {},
   "source": [
    "## Training"
   ]
  },
  {
   "cell_type": "markdown",
   "id": "b714ef7c-6798-4a4d-9270-7cab4c37e769",
   "metadata": {},
   "source": [
    "### Split Data"
   ]
  },
  {
   "cell_type": "code",
   "execution_count": 6,
   "id": "3c2d3182-d6da-48fa-8763-77187df5f149",
   "metadata": {},
   "outputs": [],
   "source": [
    "from sklearn.model_selection import train_test_split\n",
    "\n",
    "X = df.drop(\"Y\", axis=1).values\n",
    "y = df[\"Y\"].values\n",
    "\n",
    "X_train, X_test, y_train, y_test = train_test_split(\n",
    "    X, y, test_size=0.2, random_state=0\n",
    ")\n",
    "data = {\"train\": {\"X\": X_train, \"y\": y_train}, \"test\": {\"X\": X_test, \"y\": y_test}}"
   ]
  },
  {
   "cell_type": "markdown",
   "id": "77f6d587-7628-43b4-aaee-b5e6284b72e8",
   "metadata": {},
   "source": [
    "### Run Training"
   ]
  },
  {
   "cell_type": "code",
   "execution_count": 7,
   "id": "d82d5e2a-c175-4c4f-a6ee-e474a1592018",
   "metadata": {},
   "outputs": [
    {
     "data": {
      "text/plain": [
       "Ridge(alpha=0.5)"
      ]
     },
     "execution_count": 7,
     "metadata": {},
     "output_type": "execute_result"
    }
   ],
   "source": [
    "from sklearn.linear_model import Ridge\n",
    "\n",
    "ridge_args = config[\"training\"][\"ridge_args\"]\n",
    "\n",
    "reg_model = Ridge(**ridge_args)\n",
    "reg_model.fit(data[\"train\"][\"X\"], data[\"train\"][\"y\"])"
   ]
  },
  {
   "cell_type": "markdown",
   "id": "0de782af-adee-4bef-9290-f16d4d656993",
   "metadata": {},
   "source": [
    "## Evaluation"
   ]
  },
  {
   "cell_type": "code",
   "execution_count": 8,
   "id": "39d6aed8-ee6a-41a0-b96e-cb13681e249f",
   "metadata": {},
   "outputs": [
    {
     "data": {
      "text/plain": [
       "3374.431123987152"
      ]
     },
     "execution_count": 8,
     "metadata": {},
     "output_type": "execute_result"
    }
   ],
   "source": [
    "from sklearn.metrics import mean_squared_error\n",
    "\n",
    "preds = reg_model.predict(data[\"test\"][\"X\"])\n",
    "mse = mean_squared_error(preds, data[\"test\"][\"y\"])\n",
    "\n",
    "mse"
   ]
  },
  {
   "cell_type": "code",
   "execution_count": null,
   "id": "fd451d2b-bc9b-429d-a04b-44d00844f18b",
   "metadata": {},
   "outputs": [],
   "source": []
  }
 ],
 "metadata": {
  "kernelspec": {
   "display_name": "Python 3 (ipykernel)",
   "language": "python",
   "name": "python3"
  },
  "language_info": {
   "codemirror_mode": {
    "name": "ipython",
    "version": 3
   },
   "file_extension": ".py",
   "mimetype": "text/x-python",
   "name": "python",
   "nbconvert_exporter": "python",
   "pygments_lexer": "ipython3",
   "version": "3.8.2"
  }
 },
 "nbformat": 4,
 "nbformat_minor": 5
}
